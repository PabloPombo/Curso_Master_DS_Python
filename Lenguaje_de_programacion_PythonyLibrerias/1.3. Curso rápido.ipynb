{
 "cells": [
  {
   "cell_type": "markdown",
   "metadata": {},
   "source": [
    "<h2><font color=\"#004D7F\" size=6>Módulo 1. Introducción</font></h2>\n",
    "\n",
    "\n",
    "\n",
    "<h1><font color=\"#004D7F\" size=5>3. Curso rápido de Python</font></h1>\n",
    "\n",
    "<br><br>\n",
    "<div style=\"text-align: right\">\n",
    "<font color=\"#004D7F\" size=3>Manuel Castillo-Cara</font><br>\n",
    "<font color=\"#004D7F\" size=3>Machine Learning con Python</font><br>"
   ]
  },
  {
   "cell_type": "markdown",
   "metadata": {},
   "source": [
    "<div class=\"alert alert-block alert-info\">\n",
    "    \n",
    "<i class=\"fa fa-info-circle\" aria-hidden=\"true\"></i>\n",
    "More information about [Manuel Castillo-Cara](https://www.manuelcastillo.eu/)"
   ]
  },
  {
   "cell_type": "markdown",
   "metadata": {},
   "source": [
    "<div class=\"alert alert-block alert-info\">\n",
    "\n",
    "<i class=\"fa fa-info-circle\" aria-hidden=\"true\"></i>\n",
    "Puedes ver más cursos de Inteligencia Artificial, Machine Learning y Deep Learning en mi [página web](https://www.manuelcastillo.eu/udemy/)\n"
   ]
  },
  {
   "cell_type": "markdown",
   "metadata": {},
   "source": [
    "---\n",
    "\n",
    "<h2><font color=\"#004D7F\" size=5>Índice</font></h2>\n",
    "<a id=\"indice\"></a>\n",
    "\n",
    "* [1. Introducción](#section1)\n",
    "* [2. Sintaxis en Python](#section2)\n",
    "    * [2.1. Asignación](#section21)\n",
    "    * [2.2. Control de flujo](#section22)\n",
    "    * [2.3. Estructuras de datos](#section23)\n",
    "* [3. Curso de Numpy](#section3)\n",
    "* [4. Curso de Matplotlib](#section4)\n",
    "* [5. Curso de Pandas](#section5)"
   ]
  },
  {
   "cell_type": "code",
   "execution_count": 1,
   "metadata": {},
   "outputs": [
    {
     "data": {
      "text/html": [
       "<style>.container{ width:98% }</style>"
      ],
      "text/plain": [
       "<IPython.core.display.HTML object>"
      ]
     },
     "metadata": {},
     "output_type": "display_data"
    }
   ],
   "source": [
    "# Permite ajustar la anchura de la parte útil de la libreta (reduce los márgenes)\n",
    "from IPython.core.display import display, HTML\n",
    "display(HTML(\"<style>.container{ width:98% }</style>\"))"
   ]
  },
  {
   "cell_type": "markdown",
   "metadata": {},
   "source": [
    "---\n",
    "\n",
    "<a id=\"section1\"></a>\n",
    "# <font color=\"#004D7F\"> 1. Introducción</font>"
   ]
  },
  {
   "cell_type": "markdown",
   "metadata": {},
   "source": [
    "No necesita ser un desarrollador de Python para comenzar a usar el ecosistema de Python para el aprendizaje automático. Como desarrollador que ya sabe cómo programar en uno o más lenguajes de programación, puede aprender un nuevo lenguaje como Python muy rápidamente. Solo necesita conocer algunas propiedades del idioma para transferir lo que ya sabe al nuevo lenguage."
   ]
  },
  {
   "cell_type": "markdown",
   "metadata": {},
   "source": [
    "<div style=\"text-align: right\"> <font size=5>\n",
    "    <a href=\"#indice\"><i class=\"fa fa-arrow-circle-up\" aria-hidden=\"true\" style=\"color:#004D7F\"></i></a>\n",
    "</font></div>\n",
    "\n",
    "---"
   ]
  },
  {
   "cell_type": "markdown",
   "metadata": {},
   "source": [
    "<a id=\"section2\"></a>\n",
    "# <font color=\"#004D7F\"> 2. Sintaxis en Python</font>"
   ]
  },
  {
   "cell_type": "markdown",
   "metadata": {},
   "source": [
    "Al comenzar en Python, necesita conocer algunos detalles clave sobre la sintaxis del lenguaje para poder leer y comprender el código de Python."
   ]
  },
  {
   "cell_type": "markdown",
   "metadata": {},
   "source": [
    "<a id=\"section21\"></a>\n",
    "## <font color=\"#004D7F\"> 2.1. Asignación</font>"
   ]
  },
  {
   "cell_type": "markdown",
   "metadata": {},
   "source": [
    "Como programador, la asignación y los tipos no deberían sorprenderte."
   ]
  },
  {
   "cell_type": "code",
   "execution_count": 2,
   "metadata": {},
   "outputs": [],
   "source": [
    "???"
   ]
  },
  {
   "cell_type": "markdown",
   "metadata": {},
   "source": [
    "### Strings"
   ]
  },
  {
   "cell_type": "code",
   "execution_count": 2,
   "metadata": {
    "scrolled": false
   },
   "outputs": [
    {
     "name": "stdout",
     "output_type": "stream",
     "text": [
      "h\n",
      "11\n",
      "hello world\n"
     ]
    }
   ],
   "source": [
    "# Guardar en una variables un string e imprimir el caracter en la posición 0, longitud y el string completo\n",
    "???"
   ]
  },
  {
   "cell_type": "markdown",
   "metadata": {},
   "source": [
    "### Números"
   ]
  },
  {
   "cell_type": "code",
   "execution_count": 3,
   "metadata": {},
   "outputs": [
    {
     "name": "stdout",
     "output_type": "stream",
     "text": [
      "123.1\n",
      "10\n"
     ]
    }
   ],
   "source": [
    "# Guardar un número, imprimirlo, cambiarle el valor e imprimirlo nuevamente\n",
    "value1 = 123.1\n",
    "value2 = 10\n",
    "print(value1)\n",
    "print(value2)"
   ]
  },
  {
   "cell_type": "markdown",
   "metadata": {},
   "source": [
    "### Booleanos"
   ]
  },
  {
   "cell_type": "code",
   "execution_count": 5,
   "metadata": {},
   "outputs": [
    {
     "name": "stdout",
     "output_type": "stream",
     "text": [
      "False True\n"
     ]
    }
   ],
   "source": [
    "# Guardar los dos valores booleanos en dos variables diferentes e imprimirlos\n",
    "a = True\n",
    "b = False\n",
    "print(b, a)"
   ]
  },
  {
   "cell_type": "markdown",
   "metadata": {},
   "source": [
    "### Asignación Múltiple"
   ]
  },
  {
   "cell_type": "code",
   "execution_count": 7,
   "metadata": {},
   "outputs": [
    {
     "name": "stdout",
     "output_type": "stream",
     "text": [
      "3 2 1\n"
     ]
    }
   ],
   "source": [
    "# Asignar 3 números a 3 variables e imprimir\n",
    "a, b, c = 1, 2, 3\n",
    "print(c, b, a)"
   ]
  },
  {
   "cell_type": "markdown",
   "metadata": {},
   "source": [
    "### Valor None"
   ]
  },
  {
   "cell_type": "code",
   "execution_count": 8,
   "metadata": {
    "scrolled": true
   },
   "outputs": [
    {
     "name": "stdout",
     "output_type": "stream",
     "text": [
      "None\n"
     ]
    }
   ],
   "source": [
    "# Guardar un valor None e imprimirlo\n",
    "a = None\n",
    "print(a)"
   ]
  },
  {
   "cell_type": "markdown",
   "metadata": {},
   "source": [
    "<a id=\"section22\"></a>\n",
    "## <font color=\"#004D7F\"> 2.2. Control de flujo</font>"
   ]
  },
  {
   "cell_type": "markdown",
   "metadata": {},
   "source": [
    "Hay tres tipos principales de control de flujo que debe aprender: condiciones _If-Then-Else,_ _For-Loops_ y _While-Loops_"
   ]
  },
  {
   "cell_type": "markdown",
   "metadata": {},
   "source": [
    "### Condicional _If-Then-Else_\n",
    "\n",
    "Observe los dos puntos (:) al final de la condición y la intención de la pestaña significativa para el bloque de código bajo la condición."
   ]
  },
  {
   "cell_type": "code",
   "execution_count": 11,
   "metadata": {},
   "outputs": [
    {
     "name": "stdout",
     "output_type": "stream",
     "text": [
      "That is safe\n"
     ]
    }
   ],
   "source": [
    "# Guardar un valor y verificar si es 99, mayor que 200 y ninguno de los dos\n",
    "value = 40\n",
    "if value == 99:\n",
    "    print('That is fast')\n",
    "elif value > 200:\n",
    "    print('That is too fast')\n",
    "else:\n",
    "    print('That is safe')"
   ]
  },
  {
   "cell_type": "markdown",
   "metadata": {},
   "source": [
    "### _For-Loops_\n",
    "\n",
    "`for` hace un blucle que se repite hasta cumplir la condición"
   ]
  },
  {
   "cell_type": "code",
   "execution_count": 13,
   "metadata": {},
   "outputs": [
    {
     "name": "stdout",
     "output_type": "stream",
     "text": [
      "0\n",
      "1\n",
      "2\n",
      "3\n",
      "4\n",
      "5\n",
      "6\n",
      "7\n",
      "8\n",
      "9\n",
      "10\n"
     ]
    }
   ],
   "source": [
    "# Imprimir valores del 1 al 10 e imprimirlos con for\n",
    "for i in range(11): # [0,10)\n",
    "    print(i)"
   ]
  },
  {
   "cell_type": "markdown",
   "metadata": {},
   "source": [
    "### _While-Loops_\n",
    "\n",
    "`while` hace un blucle que se repite hasta cumplir la condición"
   ]
  },
  {
   "cell_type": "code",
   "execution_count": 15,
   "metadata": {},
   "outputs": [
    {
     "name": "stdout",
     "output_type": "stream",
     "text": [
      "0\n",
      "1\n",
      "2\n",
      "3\n",
      "4\n",
      "5\n",
      "6\n",
      "7\n",
      "8\n",
      "9\n",
      "10\n"
     ]
    }
   ],
   "source": [
    "# Imprimir valores del 1 al 10 e imprimirlos con while\n",
    "i = 0\n",
    "while i < 11:\n",
    "    print(i)\n",
    "    i +=1 # i=i+1"
   ]
  },
  {
   "cell_type": "markdown",
   "metadata": {},
   "source": [
    "<a id=\"section23\"></a>\n",
    "## <font color=\"#004D7F\"> 2.3. Estructuras de datos</font>"
   ]
  },
  {
   "cell_type": "markdown",
   "metadata": {},
   "source": [
    "Hay tres estructuras de datos en Python que encontrará más utilizadas y útiles. Son tuplas, listas y diccionarios."
   ]
  },
  {
   "cell_type": "markdown",
   "metadata": {},
   "source": [
    "### Tuplas"
   ]
  },
  {
   "cell_type": "markdown",
   "metadata": {},
   "source": [
    "Las tuplas son colecciones de artículos de solo lectura."
   ]
  },
  {
   "cell_type": "code",
   "execution_count": 16,
   "metadata": {},
   "outputs": [
    {
     "name": "stdout",
     "output_type": "stream",
     "text": [
      "(1, 2, 3, 4)\n"
     ]
    }
   ],
   "source": [
    "# Guardar en una tupla 3 valores e imprimir\n",
    "a = (1, 2, 3, 4)\n",
    "print(a)"
   ]
  },
  {
   "cell_type": "markdown",
   "metadata": {},
   "source": [
    "### Listas"
   ]
  },
  {
   "cell_type": "markdown",
   "metadata": {},
   "source": [
    "Las listas usan la notación de corchetes y pueden indexarse usando la notación de matriz. Tenga en cuenta que estamos utilizando algunas funciones simples similares a printf para combinar cadenas y variables al imprimir."
   ]
  },
  {
   "cell_type": "code",
   "execution_count": 18,
   "metadata": {},
   "outputs": [
    {
     "name": "stdout",
     "output_type": "stream",
     "text": [
      "Zeroth Value: 1\n",
      "List length: 4\n",
      "Last Value: 4\n",
      "1\n",
      "2\n",
      "3\n",
      "4\n"
     ]
    }
   ],
   "source": [
    "# Hacer una lista con tres valores, imprimir el primero, añadir un cuarto e imprimir la longitudo y los elementos\n",
    "mylist = [1, 2, 3]\n",
    "print(f\"Zeroth Value: {mylist[0]}\")\n",
    "mylist.append(4)\n",
    "print(f\"List length: {len(mylist)}\")\n",
    "print(f\"Last Value: {mylist[3]}\")\n",
    "for value in mylist:\n",
    "    print(value)"
   ]
  },
  {
   "cell_type": "markdown",
   "metadata": {},
   "source": [
    "### Diccionarios"
   ]
  },
  {
   "cell_type": "markdown",
   "metadata": {},
   "source": [
    "Los diccionarios son asignaciones de nombres a valores, como pares clave-valor. Tenga en cuenta el uso del corchete y las anotaciones de dos puntos al definir el diccionario."
   ]
  },
  {
   "cell_type": "code",
   "execution_count": 19,
   "metadata": {},
   "outputs": [
    {
     "name": "stdout",
     "output_type": "stream",
     "text": [
      "A value: 1\n",
      "A value: 11\n",
      "Keys: dict_keys(['a', 'b', 'c'])\n",
      "Values: dict_values([11, 2, 3])\n",
      "11\n",
      "2\n",
      "3\n"
     ]
    }
   ],
   "source": [
    "# Crear un diccionario con 3 valores e imprimir el primero y cambiarle el valor\n",
    "# Mostrar las claves y valores del diccionario y, finalmente, imprimir todos los valores con un bucle\n",
    "mydict = {'a':1, 'b':2, 'c': 3}\n",
    "print(f\"A value: {mydict['a']}\")"
   ]
  },
  {
   "cell_type": "code",
   "execution_count": 23,
   "metadata": {},
   "outputs": [
    {
     "name": "stdout",
     "output_type": "stream",
     "text": [
      "A value: 1\n",
      "A value: 11\n",
      "Keys: dict_keys(['a', 'b', 'c'])\n",
      "Values: dict_values([11, 2, 3])\n",
      "11\n",
      "2\n",
      "3\n"
     ]
    }
   ],
   "source": [
    "mydict = {'a':1, 'b':2, 'c': 3}\n",
    "print(f\"A value: {mydict['a']}\")\n",
    "mydict['a'] = 11\n",
    "print(f\"A value: {mydict['a']}\")\n",
    "print(f\"Keys: {mydict.keys()}\")\n",
    "print(f\"Values: {mydict.values()}\")\n",
    "for key in mydict.keys():\n",
    "    print(mydict[key])"
   ]
  },
  {
   "cell_type": "markdown",
   "metadata": {},
   "source": [
    "### Funciones"
   ]
  },
  {
   "cell_type": "markdown",
   "metadata": {},
   "source": [
    "El mayor problema con Python es el espacio en blanco. Asegúrese de tener una nueva línea vacía después del código sangrado. El siguiente ejemplo define una nueva función para calcular la suma de dos valores y llama a la función con dos argumentos."
   ]
  },
  {
   "cell_type": "code",
   "execution_count": 25,
   "metadata": {},
   "outputs": [
    {
     "name": "stdout",
     "output_type": "stream",
     "text": [
      "6\n"
     ]
    }
   ],
   "source": [
    "# Realizar una fución que sume dos valores\n",
    "def mysum(x, y):\n",
    "    return x+y\n",
    "\n",
    "result = mysum(3,3)\n",
    "print(result)"
   ]
  },
  {
   "cell_type": "markdown",
   "metadata": {},
   "source": [
    "<div class=\"alert alert-block alert-info\">\n",
    "    \n",
    "<i class=\"fa fa-info-circle\" aria-hidden=\"true\"></i>\n",
    "Para más información sobre el lenguaje de programación Python:\n",
    "* [Google Python Class](https://developers.google.com/edu/python/)\n",
    "* [Python HOWTOs invaluable for learning idioms and such (Python 3.6)](https://docs.python.org/3.6/howto/index.html).\n",
    "* [Python Standard Library Reference](https://docs.python.org/3.6/library/index.html).\n",
    "</div>\n",
    "\n"
   ]
  },
  {
   "cell_type": "markdown",
   "metadata": {},
   "source": [
    "<div style=\"text-align: right\"> <font size=5>\n",
    "    <a href=\"#indice\"><i class=\"fa fa-arrow-circle-up\" aria-hidden=\"true\" style=\"color:#004D7F\"></i></a>\n",
    "</font></div>\n",
    "\n",
    "---"
   ]
  },
  {
   "cell_type": "markdown",
   "metadata": {},
   "source": [
    "<a id=\"section3\"></a>\n",
    "# <font color=\"#004D7F\"> 3. Curso de Numpy</font>"
   ]
  },
  {
   "cell_type": "markdown",
   "metadata": {},
   "source": [
    "NumPy proporciona las estructuras y operaciones de datos básicos para SciPy. Estas son matrices (ndarrays) que son eficientes para definir y manipular."
   ]
  },
  {
   "cell_type": "markdown",
   "metadata": {},
   "source": [
    "### Crear Array\n",
    "\n",
    "Observe cómo convertimos fácilmente una lista de Python en una matriz NumPy."
   ]
  },
  {
   "cell_type": "code",
   "execution_count": 26,
   "metadata": {},
   "outputs": [
    {
     "name": "stdout",
     "output_type": "stream",
     "text": [
      "[1 2 3]\n",
      "(3,)\n"
     ]
    }
   ],
   "source": [
    "# Crear un array e imprimir sus valores y tamaño\n",
    "import numpy as np\n",
    "mylist = [1, 2, 3]\n",
    "myarray = np.array(mylist)\n",
    "print(myarray)\n",
    "print(myarray.shape)"
   ]
  },
  {
   "cell_type": "markdown",
   "metadata": {},
   "source": [
    "### Acceso a datos\n",
    "\n",
    "La notación de matriz y los rangos se pueden usar para acceder de manera eficiente a los datos en una matriz NumPy."
   ]
  },
  {
   "cell_type": "code",
   "execution_count": 23,
   "metadata": {
    "scrolled": true
   },
   "outputs": [
    {
     "name": "stdout",
     "output_type": "stream",
     "text": [
      "[[1 2 3]\n",
      " [3 4 5]]\n",
      "(2, 3)\n",
      "First row: [1 2 3]\n",
      "Last row: [3 4 5]\n",
      "Specific row and col: 3\n",
      "Whole col: [3 5]\n"
     ]
    }
   ],
   "source": [
    "# Hacer una mariz 2x3 e imprimir la primera y última lista\n",
    "# Luego imprimir un elemento concreto y los valores de la columna 3\n",
    "???"
   ]
  },
  {
   "cell_type": "code",
   "execution_count": 30,
   "metadata": {},
   "outputs": [
    {
     "name": "stdout",
     "output_type": "stream",
     "text": [
      "[[1 2 3]\n",
      " [4 5 6]]\n",
      "(2, 3)\n",
      "First row: [1 2 3]\n",
      "Last row: [4 5 6]\n",
      "Specific row and col: 3\n",
      "Whole col: [3 6]\n"
     ]
    }
   ],
   "source": [
    "import numpy as np\n",
    "mylist = [[1,2,3], [4,5,6]]\n",
    "myarray = np.array(mylist)\n",
    "print(myarray)\n",
    "print(myarray.shape)\n",
    "print(f\"First row: {myarray[0]}\")\n",
    "print(f\"Last row: {myarray[-1]}\")\n",
    "print(f\"Specific row and col: {myarray[0, 2]}\")\n",
    "print(f\"Whole col: {myarray[ : , 2]}\")"
   ]
  },
  {
   "cell_type": "markdown",
   "metadata": {},
   "source": [
    "### Operadores aritméticos\n",
    "\n",
    "Las matrices NumPy se pueden usar directamente en aritmética"
   ]
  },
  {
   "cell_type": "code",
   "execution_count": 31,
   "metadata": {},
   "outputs": [
    {
     "name": "stdout",
     "output_type": "stream",
     "text": [
      "Addition: [5 5 5]\n",
      "Multiplication: [6 6 6]\n"
     ]
    }
   ],
   "source": [
    "# crear dos vectores y sumarlos y multiplicarlos\n",
    "import numpy as np\n",
    "myarray1 = np.array([2, 2, 2])\n",
    "myarray2 = np.array([3, 3, 3])\n",
    "print(f\"Addition: {myarray1 + myarray2}\")\n",
    "print(f\"Multiplication: {myarray1 * myarray2}\")"
   ]
  },
  {
   "cell_type": "markdown",
   "metadata": {},
   "source": [
    "Hay mucho más en las matrices NumPy, pero estos ejemplos le dan una idea de las eficiencias que proporcionan al trabajar con muchos datos numéricos. Consulte el Capítulo 24 para obtener recursos para obtener más información sobre la API de NumPy."
   ]
  },
  {
   "cell_type": "markdown",
   "metadata": {},
   "source": [
    "<div class=\"alert alert-block alert-info\">\n",
    "    \n",
    "<i class=\"fa fa-info-circle\" aria-hidden=\"true\"></i>\n",
    "Para más información de esta librería:\n",
    "* Documentación de [NumPy](https://docs.scipy.org/doc/numpy/user/)\n",
    "* Documentación de [SciPy](http://scipy-lectures.org/)\n",
    "</div>\n",
    "\n"
   ]
  },
  {
   "cell_type": "markdown",
   "metadata": {},
   "source": [
    "<div style=\"text-align: right\"> <font size=5>\n",
    "    <a href=\"#indice\"><i class=\"fa fa-arrow-circle-up\" aria-hidden=\"true\" style=\"color:#004D7F\"></i></a>\n",
    "</font></div>\n",
    "\n",
    "---"
   ]
  },
  {
   "cell_type": "markdown",
   "metadata": {},
   "source": [
    "<a id=\"section4\"></a>\n",
    "# <font color=\"#004D7F\"> 4. Curso de Matplotlib</font>"
   ]
  },
  {
   "cell_type": "markdown",
   "metadata": {},
   "source": [
    "Matplotlib se puede usar para crear diagramas y gráficos. La biblioteca se usa generalmente de la siguiente manera:\n",
    "* Llame a una función de gráfica con algunos datos (por ejemplo `.plot()`).\n",
    "* Llama a muchas funciones para configurar las propiedades de los gráficos (por ejemplo, etiquetas y colores).\n",
    "* Haga visible la trama (por ejemplo, `.show()`).\n"
   ]
  },
  {
   "cell_type": "markdown",
   "metadata": {},
   "source": [
    "### Gráficos lineales"
   ]
  },
  {
   "cell_type": "markdown",
   "metadata": {},
   "source": [
    "El siguiente ejemplo crea un diagrama lineal simple a partir de datos unidimensionales."
   ]
  },
  {
   "cell_type": "code",
   "execution_count": 37,
   "metadata": {},
   "outputs": [
    {
     "data": {
      "image/png": "[encoded data removed]",
      "text/plain": [
       "<Figure size 432x288 with 1 Axes>"
      ]
     },
     "metadata": {
      "needs_background": "light"
     },
     "output_type": "display_data"
    }
   ],
   "source": [
    "# Crear un vector y representar un gráfico linea con sus valores\n",
    "import matplotlib.pyplot as plt\n",
    "import numpy as np\n",
    "myarray = np.array([1,2,3])\n",
    "plt.plot(myarray)\n",
    "plt.xlabel(\"Eje X\")\n",
    "plt.ylabel(\"Eje Y\")\n",
    "plt.show()"
   ]
  },
  {
   "cell_type": "markdown",
   "metadata": {},
   "source": [
    "### Gráficos de dispersión"
   ]
  },
  {
   "cell_type": "markdown",
   "metadata": {},
   "source": [
    "A continuación se muestra un ejemplo simple de crear un diagrama de dispersión a partir de datos bidimensionales."
   ]
  },
  {
   "cell_type": "code",
   "execution_count": 38,
   "metadata": {
    "scrolled": true
   },
   "outputs": [
    {
     "data": {
      "image/png": "[encoded data removed]",
      "text/plain": [
       "<Figure size 432x288 with 1 Axes>"
      ]
     },
     "metadata": {
      "needs_background": "light"
     },
     "output_type": "display_data"
    }
   ],
   "source": [
    "# Hcer dos vectores y representar los puntos en un gráfico de dispersión\n",
    "import matplotlib.pyplot as plt\n",
    "import numpy as np\n",
    "x = np.array([1,2,3])\n",
    "y = np.array([2,4,6])\n",
    "plt.scatter(x, y)\n",
    "plt.xlabel(\"Eje X\")\n",
    "plt.ylabel(\"Eje Y\")\n",
    "plt.show()"
   ]
  },
  {
   "cell_type": "markdown",
   "metadata": {},
   "source": [
    "Hay muchos más tipos de gráficos y muchas más propiedades que se pueden establecer en un gráfico para configurarlo. Seguro hasta el punto de que puede copiar y pegar una receta para trazar datos en un abrir y cerrar de ojos. Es una habilidad invaluable. Creo que será mejor que veas muchos ejemplos de Matplotlib para diferentes tipos de trama y prepares recetas para usar después. Hacer lindas tramas es un tema completamente diferente y para eso recomendaría estudiar la API cuidadosamente. Veo las gráficas como herramientas desechables para aprender más sobre un problema."
   ]
  },
  {
   "cell_type": "markdown",
   "metadata": {},
   "source": [
    "<div class=\"alert alert-block alert-info\">\n",
    "    \n",
    "<i class=\"fa fa-info-circle\" aria-hidden=\"true\"></i>\n",
    "Para más información de esta librería:\n",
    "* Galería Matplotlib con [código simple y legible](https://matplotlib.org/gallery.html).\n",
    "* Guía de inicio de [Matplotlib](https://matplotlib.org/users/beginner.html).\n",
    "* Referencia Matplotlib [API](https://matplotlib.org/api/index.html).\n",
    "</div>\n",
    "\n"
   ]
  },
  {
   "cell_type": "markdown",
   "metadata": {},
   "source": [
    "<div style=\"text-align: right\"> <font size=5>\n",
    "    <a href=\"#indice\"><i class=\"fa fa-arrow-circle-up\" aria-hidden=\"true\" style=\"color:#004D7F\"></i></a>\n",
    "</font></div>\n",
    "\n",
    "---"
   ]
  },
  {
   "cell_type": "markdown",
   "metadata": {},
   "source": [
    "<a id=\"section5\"></a>\n",
    "# <font color=\"#004D7F\"> 5. Curso de Pandas</font>"
   ]
  },
  {
   "cell_type": "markdown",
   "metadata": {},
   "source": [
    "Pandas proporciona estructuras de datos y funcionalidad para manipular y analizar datos rápidamente. La clave para comprender Pandas para el aprendizaje automático es comprender sus estructuras de datos básicas: Series y DataFrame."
   ]
  },
  {
   "cell_type": "markdown",
   "metadata": {},
   "source": [
    "### Series\n",
    "\n",
    "Una serie es una array unidimensional donde se pueden etiquetar las filas y columnas. "
   ]
  },
  {
   "cell_type": "code",
   "execution_count": 40,
   "metadata": {},
   "outputs": [
    {
     "name": "stdout",
     "output_type": "stream",
     "text": [
      "a    1\n",
      "b    2\n",
      "c    3\n",
      "dtype: int64\n"
     ]
    }
   ],
   "source": [
    "# Realizar una Serie Pandas e imprimirla\n",
    "import numpy as np\n",
    "import pandas as pd\n",
    "\n",
    "myarray = np.array([1,2,3])\n",
    "rowname = ['a', 'b', 'c']\n",
    "\n",
    "myserie = pd.Series(myarray, index=rowname)\n",
    "print(myserie)"
   ]
  },
  {
   "cell_type": "markdown",
   "metadata": {},
   "source": [
    "Puede acceder a los datos en una serie como una array NumPy y como un diccionario"
   ]
  },
  {
   "cell_type": "code",
   "execution_count": 42,
   "metadata": {},
   "outputs": [
    {
     "name": "stdout",
     "output_type": "stream",
     "text": [
      "2\n",
      "2\n"
     ]
    }
   ],
   "source": [
    "#Imprimir por posicíon y por índice\n",
    "print(myserie[1])\n",
    "print(myserie['b'])"
   ]
  },
  {
   "cell_type": "markdown",
   "metadata": {},
   "source": [
    "### Dataframe\n",
    "\n",
    "Un Dataframe es un array multidimensional donde se pueden etiquetar las filas y las columnas"
   ]
  },
  {
   "cell_type": "code",
   "execution_count": 44,
   "metadata": {},
   "outputs": [
    {
     "data": {
      "text/html": [
       "<div>\n",
       "<style scoped>\n",
       "    .dataframe tbody tr th:only-of-type {\n",
       "        vertical-align: middle;\n",
       "    }\n",
       "\n",
       "    .dataframe tbody tr th {\n",
       "        vertical-align: top;\n",
       "    }\n",
       "\n",
       "    .dataframe thead th {\n",
       "        text-align: right;\n",
       "    }\n",
       "</style>\n",
       "<table border=\"1\" class=\"dataframe\">\n",
       "  <thead>\n",
       "    <tr style=\"text-align: right;\">\n",
       "      <th></th>\n",
       "      <th>one</th>\n",
       "      <th>two</th>\n",
       "      <th>three</th>\n",
       "    </tr>\n",
       "  </thead>\n",
       "  <tbody>\n",
       "    <tr>\n",
       "      <th>a</th>\n",
       "      <td>1</td>\n",
       "      <td>2</td>\n",
       "      <td>3</td>\n",
       "    </tr>\n",
       "    <tr>\n",
       "      <th>b</th>\n",
       "      <td>4</td>\n",
       "      <td>5</td>\n",
       "      <td>6</td>\n",
       "    </tr>\n",
       "  </tbody>\n",
       "</table>\n",
       "</div>"
      ],
      "text/plain": [
       "   one  two  three\n",
       "a    1    2      3\n",
       "b    4    5      6"
      ]
     },
     "execution_count": 44,
     "metadata": {},
     "output_type": "execute_result"
    }
   ],
   "source": [
    "#Crear un Dataframe e imprimirlo\n",
    "import pandas as pd\n",
    "import numpy as np\n",
    "\n",
    "myarray = np.array([[1,2,3], [4,5,6]])\n",
    "rownames = ['a', 'b']\n",
    "colnames = ['one', 'two', 'three']\n",
    "\n",
    "df_my = pd.DataFrame(myarray, index=rownames, columns=colnames)\n",
    "df_my"
   ]
  },
  {
   "cell_type": "markdown",
   "metadata": {},
   "source": [
    "Los datos pueden indexarse usando nombres de columna"
   ]
  },
  {
   "cell_type": "code",
   "execution_count": 45,
   "metadata": {
    "scrolled": true
   },
   "outputs": [
    {
     "name": "stdout",
     "output_type": "stream",
     "text": [
      "1st method: a    1\n",
      "b    4\n",
      "Name: one, dtype: int64\n",
      "\n",
      "2nd method: a    1\n",
      "b    4\n",
      "Name: one, dtype: int64\n"
     ]
    }
   ],
   "source": [
    "# Imprimir por el índice\n",
    "print(f\"1st method: {df_my['one']}\")\n",
    "print()\n",
    "print(f\"2nd method: {df_my.one}\")"
   ]
  },
  {
   "cell_type": "markdown",
   "metadata": {},
   "source": [
    "Hay mucha documentación para $\\texttt{Pandas}$ porque es una herramienta muy flexible. En general, los ejemplos de libros de cocina serán más útiles para usted aquí, ya que le darán ideas sobre diferentes formas de cortar y cortar sus datos."
   ]
  },
  {
   "cell_type": "markdown",
   "metadata": {},
   "source": [
    "<div class=\"alert alert-block alert-info\">\n",
    "    \n",
    "<i class=\"fa fa-info-circle\" aria-hidden=\"true\"></i>\n",
    "Para más información de esta librería:\n",
    "* Guía de usuario de documentación de [Pandas](https://pandas.pydata.org/pandas-docs/stable/).\n",
    "* Guía de rápida de [Pandas](https://pandas.pydata.org/pandas-docs/stable/user_guide/cookbook.html).\n",
    "* Referencia Pandas [API](https://pandas.pydata.org/pandas-docs/stable/reference/index.html).\n",
    "</div>\n",
    "\n"
   ]
  },
  {
   "cell_type": "markdown",
   "metadata": {},
   "source": [
    "<div style=\"text-align: right\"> <font size=5>\n",
    "    <a href=\"#indice\"><i class=\"fa fa-arrow-circle-up\" aria-hidden=\"true\" style=\"color:#004D7F\"></i></a>\n",
    "</font></div>\n",
    "\n",
    "---\n",
    "\n",
    "<div style=\"text-align: right\"> <font size=6><i class=\"fa fa-coffee\" aria-hidden=\"true\" style=\"color:#004D7F\"></i> </font></div>"
   ]
  }
 ],
 "metadata": {
  "kernelspec": {
   "display_name": "Python 3",
   "language": "python",
   "name": "python3"
  },
  "language_info": {
   "codemirror_mode": {
    "name": "ipython",
    "version": 3
   },
   "file_extension": ".py",
   "mimetype": "text/x-python",
   "name": "python",
   "nbconvert_exporter": "python",
   "pygments_lexer": "ipython3",
   "version": "3.8.10"
  }
 },
 "nbformat": 4,
 "nbformat_minor": 2
}
